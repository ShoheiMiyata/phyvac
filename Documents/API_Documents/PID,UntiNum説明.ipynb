{
  "nbformat": 4,
  "nbformat_minor": 0,
  "metadata": {
    "colab": {
      "name": "PID,UntiNum説明.ipynb",
      "provenance": []
    },
    "kernelspec": {
      "name": "python3",
      "display_name": "Python 3"
    }
  },
  "cells": [
    {
      "cell_type": "markdown",
      "metadata": {
        "id": "C7Z2xDydtiKl"
      },
      "source": [
        "以下でimport\n",
        "本来なら! git https://〜\n",
        "でgithubからクローン"
      ]
    },
    {
      "cell_type": "code",
      "metadata": {
        "id": "xWTE8lf2lymW"
      },
      "source": [
        "import numpy as np\n",
        "import math\n",
        "import pandas as pd\n",
        "from scipy.interpolate import RegularGridInterpolator"
      ],
      "execution_count": 1,
      "outputs": []
    },
    {
      "cell_type": "markdown",
      "metadata": {
        "id": "4AmeOTwxwtgq"
      },
      "source": [
        "# PIDの説明"
      ]
    },
    {
      "cell_type": "code",
      "metadata": {
        "id": "LE5nU-S5gwG4"
      },
      "source": [
        "# pid制御（プログラムの中身はd成分を無視したpi制御）\n",
        "class PID:\n",
        "    # def __init__()の中の値はデフォルト値。指定しなければこの値で計算される。\n",
        "    def __init__(self, mode=1, a_max=1, a_min=0, kp=0.8, ti=10, t_reset=30, kg=1, sig=0, t_step=1):\n",
        "        # mode          :運転時1, 非運転時0\n",
        "        # a_max,a_min   :制御値の最大・最小範囲\n",
        "        # kp            :比例ゲイン\n",
        "        # ti            :積分時間\n",
        "        # sv            :現時刻の制御する要素の設定値 (温度や圧力)  S0:前時刻(S0は不使用)\n",
        "        # mv            :現時刻の制御する要素の値   P0:前時刻(P0は不使用)\n",
        "        # sig           :積分総和\n",
        "        # a             :現時刻の制御に使用する要素の値(周波数比、バルブ開度など)\n",
        "        # ctrl          :制御に使用する要素の制御量\n",
        "        # kg            :CTRLの量を制御する要素の設定値に落とし込むための係数。(-1か1)\n",
        "        # t_reset       :設定値に不全がある、または不具合で制御が長時間おかしくなっていた場合にSIGをリセットするまでの時間\n",
        "        # t_step        :制御ステップ。1だと毎時刻制御出力する、2だと2時刻ごとに制御出力する。\n",
        "        # example kp=0.06,ti=20\n",
        "        self.mode = mode\n",
        "        self.a_max = a_max\n",
        "        self.a_min = a_min\n",
        "        self.kp = kp\n",
        "        self.ti = ti\n",
        "        self.flag_reset = np.zeros(t_reset)\n",
        "        self.kg = kg\n",
        "        self.sig = sig\n",
        "        self.t_step = t_step\n",
        "        self.t_step_cnt = -1 # 計算ステップのための内部パラメータ\n",
        "        self.a = 0     \n",
        "        \n",
        "        \n",
        "    def control(self, sv, mv):\n",
        "        if self.mode == 1:\n",
        "            \n",
        "            self.t_step_cnt += 1\n",
        "            if self.t_step_cnt % self.t_step == 0:\n",
        "                self.t_step_cnt = 0\n",
        "            \n",
        "                self.sig += sv  - mv\n",
        "                ctrl = self.kp * ((sv - mv) + 1 / self.ti * self.sig)\n",
        "                \n",
        "                # 前時刻からの偏差は5%未満とする\n",
        "                if ctrl > 0.05:\n",
        "                    ctrl = 0.05\n",
        "                elif ctrl < -0.05:\n",
        "                    ctrl = -0.05\n",
        "                    \n",
        "                self.a = self.a + ctrl * self.kg\n",
        "        \n",
        "                # 制御量は上下限値をもつ\n",
        "                if self.a > self.a_max:\n",
        "                    self.a = self.a_max\n",
        "                elif self.a < self.a_min:\n",
        "                    self.a = self.a_min\n",
        "                    \n",
        "                # 積分時間リセット\n",
        "                t_reset = self.flag_reset.size\n",
        "                for ii in range(t_reset - 1, 0, -1):\n",
        "                    self.flag_reset[ii] = self.flag_reset[ii - 1]\n",
        "                if sv - mv > 0:\n",
        "                    self.flag_reset[0] = 1\n",
        "                elif sv - mv < 0:\n",
        "                    self.flag_reset[0] = -1\n",
        "                else:\n",
        "                    self.flag_reset[0] = 0\n",
        "            \n",
        "                if all(i == 1 for i in self.flag_reset) == True or all(i == -1 for i in self.flag_reset) == True:\n",
        "                    self.sig = 0\n",
        "                    self.flag_reset = np.zeros(t_reset)\n",
        "            \n",
        "            \n",
        "        elif self.mode == 0:\n",
        "            self.a = 0\n",
        "            \n",
        "        return self.a"
      ],
      "execution_count": 2,
      "outputs": []
    },
    {
      "cell_type": "markdown",
      "metadata": {
        "id": "bwqkR6trt7rC"
      },
      "source": [
        "以下でpidの設定値を入れる\n",
        "\n",
        "\n"
      ]
    },
    {
      "cell_type": "code",
      "metadata": {
        "id": "GN8wkxngiFhE"
      },
      "source": [
        "pid = PID()\n",
        "#以下で初期値を入れる\n",
        "pid.mode = 1\n",
        "pid.a_max = 1\n",
        "pid.a_min = 0\n",
        "pid.kp = 0.8\n",
        "pid.ti = 10\n",
        "pid.flag_reset = np.zeros(30)\n",
        "pid.kg = 1\n",
        "pid.sig = 0\n",
        "pid.t_step = 1\n",
        "pid.t_step_cnt = -1 "
      ],
      "execution_count": 3,
      "outputs": []
    },
    {
      "cell_type": "code",
      "metadata": {
        "id": "Xc-nAQp2tGx8"
      },
      "source": [
        "sv = 1000\n",
        "mv = 150"
      ],
      "execution_count": 4,
      "outputs": []
    },
    {
      "cell_type": "code",
      "metadata": {
        "colab": {
          "base_uri": "https://localhost:8080/"
        },
        "id": "uCl_X9cKtCtE",
        "outputId": "9abe5d9e-e1e0-44b9-df2d-da03b26726cc"
      },
      "source": [
        "print(pid.control(sv,mv))"
      ],
      "execution_count": 5,
      "outputs": [
        {
          "output_type": "stream",
          "text": [
            "0.05\n"
          ],
          "name": "stdout"
        }
      ]
    },
    {
      "cell_type": "markdown",
      "metadata": {
        "id": "FyQ3bSdmhNkX"
      },
      "source": [
        "# UnitNumの説明"
      ]
    },
    {
      "cell_type": "code",
      "metadata": {
        "id": "mRBi-Arfh7Tu"
      },
      "source": [
        "class UnitNum:\n",
        "    def __init__(self, thre_up=[0.5,1.0], thre_down=[0.4,0.9], t_wait=15):\n",
        "        # thre_up_g     :増段閾値(1->2, 2->3といった時の値。型は配列またはリストとする) thre: threshold, g: 流量, q: 熱量\n",
        "        # thre_down_q   :減段閾値(2->1, 3->2といった時の値。型は配列またはリストとする)\n",
        "        # t_wait        :効果待ち時間(ex: 15分)\n",
        "        # num           :運転台数 num: number\n",
        "        # g             :流量[m3/min]\n",
        "        # q             :熱量[kW]\n",
        "        self.thre_up = thre_up\n",
        "        self.thre_down = thre_down\n",
        "        self.t_wait = t_wait\n",
        "        self.num = 1\n",
        "        self.flag_switch = np.zeros(t_wait)\n",
        "        self.g = 0\n",
        "            \n",
        "    def control(self, g):\n",
        "        self.g = g\n",
        "        num_max = len(self.thre_up)+1\n",
        "        \n",
        "        for i in range(self.t_wait - 1, 0, -1):\n",
        "            self.flag_switch[i] = self.flag_switch[i-1]\n",
        "          \n",
        "        if self.num == num_max:\n",
        "            if self.g < self.thre_down[self.num-2]:\n",
        "                self.flag_switch[0] = self.num-1\n",
        "        elif self.num == 1:\n",
        "            if self.g > self.thre_up[self.num-1]:\n",
        "                self.flag_switch[0] = self.num+1\n",
        "                \n",
        "        elif self.g > self.thre_up[self.num-1]:\n",
        "            self.flag_switch[0] = self.num+1\n",
        "        elif self.g < self.thre_down[self.num-2]:\n",
        "            self.flag_switch[0] = self.num-1\n",
        "        else:\n",
        "            self.flag_switch[0] = self.num\n",
        "            \n",
        "        if self.flag_switch[0] < 1:\n",
        "            self.flag_switch[0] = 1\n",
        "        elif self.flag_switch[0] > num_max:\n",
        "            self.flag_switch[0] = num_max\n",
        "        \n",
        "            \n",
        "        if all(i > self.num for i in self.flag_switch):\n",
        "            self.num += 1\n",
        "        elif all(i < self.num for i in self.flag_switch):\n",
        "            self.num -= 1\n",
        "        \n",
        "        return self.num"
      ],
      "execution_count": 8,
      "outputs": []
    },
    {
      "cell_type": "markdown",
      "metadata": {
        "id": "uFr4uKs-wiqS"
      },
      "source": [
        "以下でunitnumの設定値を入れる"
      ]
    },
    {
      "cell_type": "code",
      "metadata": {
        "id": "NkpI0mZQugc4"
      },
      "source": [
        "unitnum = UnitNum()\n",
        "unitnum.thre_up = [0.5,1.0]\n",
        "unitnum.thre_down = [0.4,0.9]\n",
        "unitnum.t_wait = 15\n",
        "unitnum.num = 1\n",
        "unitnum.flag_switch = np.zeros(unitnum.t_wait)"
      ],
      "execution_count": 10,
      "outputs": []
    },
    {
      "cell_type": "code",
      "metadata": {
        "id": "qWKw6UFhvqt2"
      },
      "source": [
        "g = 100"
      ],
      "execution_count": 11,
      "outputs": []
    },
    {
      "cell_type": "code",
      "metadata": {
        "colab": {
          "base_uri": "https://localhost:8080/"
        },
        "id": "8j5s1T4Qvv9l",
        "outputId": "5a78d55e-3927-4635-85c1-a5e9379fb2fd"
      },
      "source": [
        "print(unitnum.control(g))"
      ],
      "execution_count": 12,
      "outputs": [
        {
          "output_type": "stream",
          "text": [
            "1\n"
          ],
          "name": "stdout"
        }
      ]
    }
  ]
}